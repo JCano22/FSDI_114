{
 "cells": [
  {
   "cell_type": "code",
   "execution_count": 10,
   "id": "cdeb6caa",
   "metadata": {},
   "outputs": [],
   "source": [
    "# Simplified Stack implementation\n",
    "\n",
    "class Stack:\n",
    "    def __init__(self):\n",
    "        self.items = []\n",
    "    \n",
    "    def push(self, value):\n",
    "        self.items.append(value)\n",
    "        \n",
    "    def pop(self):\n",
    "        return self.items.pop()\n",
    "    \n",
    "    def size(self):\n",
    "        return len(self.items)\n",
    "    \n",
    "    def peek(self):\n",
    "        return self.items[len(self.items)-1]\n",
    "    \n",
    "    def is_empty(self):\n",
    "        return self.items == []"
   ]
  },
  {
   "cell_type": "markdown",
   "id": "37054000",
   "metadata": {},
   "source": [
    "# Mini challenge 1\n",
    "Create a function that uses a stack (our stack class above) to invert a string.\n",
    "\n",
    "Your function must be called `invert_str` and receive a single string as a parameter, then return that string in inverted order.\n",
    "\n",
    "```\n",
    "Examples:\n",
    "rafael -> leafar\n",
    "rats -> star\n",
    "cars -> srac\n",
    "etc\n",
    "```"
   ]
  },
  {
   "cell_type": "code",
   "execution_count": 2,
   "id": "7346e511",
   "metadata": {},
   "outputs": [],
   "source": [
    "# create invert_str function that takes str as parameter\n",
    "# Create an instance of the Stack class named newStack\n",
    "# Loop through each character in str and push each char to newStack\n",
    "# create an empty string called newStr\n",
    "# use while loop to got through newStack and pop char and add them to newStr (while loop should run while newStack is not empty)\n",
    "# use pop method to remove chars from newStack list and add them to newStr\n",
    "# return newStr\n",
    "\n",
    "def invert_str(str):\n",
    "    newStack = Stack()\n",
    "    \n",
    "    for char in str:\n",
    "        newStack.push(char)\n",
    "    \n",
    "    newStr = \"\"\n",
    "    \n",
    "    while not newStack.is_empty():\n",
    "        newStr += newStack.pop()\n",
    "        \n",
    "    return newStr\n",
    "        "
   ]
  },
  {
   "cell_type": "code",
   "execution_count": 11,
   "id": "097872df",
   "metadata": {},
   "outputs": [
    {
     "data": {
      "text/plain": [
       "'stac'"
      ]
     },
     "execution_count": 11,
     "metadata": {},
     "output_type": "execute_result"
    }
   ],
   "source": [
    "invert_str(\"cats\")"
   ]
  },
  {
   "cell_type": "code",
   "execution_count": 13,
   "id": "f53e5436",
   "metadata": {},
   "outputs": [
    {
     "data": {
      "text/plain": [
       "'onaC egroJ'"
      ]
     },
     "execution_count": 13,
     "metadata": {},
     "output_type": "execute_result"
    }
   ],
   "source": [
    "invert_str(\"Jorge Cano\")"
   ]
  },
  {
   "cell_type": "code",
   "execution_count": 14,
   "id": "b2077669",
   "metadata": {},
   "outputs": [
    {
     "data": {
      "text/plain": [
       "\"derit m'I\""
      ]
     },
     "execution_count": 14,
     "metadata": {},
     "output_type": "execute_result"
    }
   ],
   "source": [
    "invert_str(\"I'm tired\")"
   ]
  },
  {
   "cell_type": "code",
   "execution_count": 19,
   "id": "8b1926b0",
   "metadata": {},
   "outputs": [],
   "source": [
    "# Implementation that does not depend on built-in data structure\n",
    "\n",
    "class Stack:\n",
    "    class __Node:\n",
    "        def __init__(self, data):\n",
    "            self.data = data\n",
    "            self.below = None\n",
    "    def __init__(self):\n",
    "        self.top = None\n",
    "        \n",
    "    def push(self, element):\n",
    "        new_node = self.__Node(element)\n",
    "        if not self.top:\n",
    "            self.top = new_node\n",
    "        else:\n",
    "            new_node.below = self.top\n",
    "            self.top = new_node\n",
    "            \n",
    "    def pop(self):\n",
    "        if self.top:\n",
    "            element = self.top.data\n",
    "            self.top = self.top.below\n",
    "            return element\n",
    "        raise IndexError(\"Empty stack\")\n",
    "        \n",
    "    def is_empty(self):\n",
    "        return self.top == None\n",
    "    \n",
    "    #Three more methods:\n",
    "    def size(self):\n",
    "        # should return the total amount of elements in our stack\n",
    "        \n",
    "        # size function\n",
    "        # create a counter variable initialized to 0\n",
    "        # loop through 'self' while there is a self.top (while loop)\n",
    "        # create variable 'current' and assign to self.top\n",
    "        # increment counter by 1 each loop\n",
    "        # update 'current' to self.below after each counter++\n",
    "        # return counter once loop ends\n",
    "\n",
    "        counter = 0\n",
    "        current = self.top\n",
    "        while current:\n",
    "            \n",
    "            counter += 1\n",
    "            current = self.below\n",
    "        \n",
    "        return counter\n",
    "        \n",
    "        \n",
    "    \n",
    "    def peek(self):\n",
    "        # this should return the value or element at the top, without removing top node\n",
    "        # similar to pop but without 'self.top = self.top.below'\n",
    "        # return element \n",
    "        \n",
    "        if self.top:\n",
    "            element = self.top.data\n",
    "            return element\n",
    "        raise IndexError(\"Empty stack\")\n",
    "    \n",
    "    def search(self, element):\n",
    "        #this should return True if the element is somewhere in the stack, False otherwise\n",
    "        # create 'current' variable and assign to self.top\n",
    "        # use while loop to go through current, should loop while current is true\n",
    "        # use if stmnt to check if 'current' == element, if so return True\n",
    "        # else assign 'current' to self.below\n",
    "        # if while loop ends return False\n",
    "        \n",
    "        current = self.top\n",
    "        while current:\n",
    "            if current == element:\n",
    "                return True\n",
    "            else:\n",
    "                current = self.below\n",
    "            \n",
    "        return False"
   ]
  },
  {
   "cell_type": "code",
   "execution_count": 20,
   "id": "ee67ca40",
   "metadata": {},
   "outputs": [],
   "source": [
    "# Simplified implementation of queue relying on built-in data structures (list)\n",
    "\n",
    "class Queue:\n",
    "    def __init__(self):\n",
    "        self.items = []\n",
    "    \n",
    "    def enqueue(self, element):\n",
    "        self.items.insert(0, element)\n",
    "    \n",
    "    def dequeue(self):\n",
    "        return self.items.pop()\n",
    "    \n",
    "    #nice to have methods:\n",
    "    \n",
    "    def size(self):\n",
    "        return len(self.items)\n",
    "    \n",
    "    def peek(self):\n",
    "        return self.items[lent(self.items)-1]\n",
    "    \n",
    "    def is_empty(self):\n",
    "        return self.items == []"
   ]
  },
  {
   "cell_type": "code",
   "execution_count": null,
   "id": "8db56500",
   "metadata": {},
   "outputs": [],
   "source": []
  }
 ],
 "metadata": {
  "kernelspec": {
   "display_name": "Python 3 (ipykernel)",
   "language": "python",
   "name": "python3"
  },
  "language_info": {
   "codemirror_mode": {
    "name": "ipython",
    "version": 3
   },
   "file_extension": ".py",
   "mimetype": "text/x-python",
   "name": "python",
   "nbconvert_exporter": "python",
   "pygments_lexer": "ipython3",
   "version": "3.10.6"
  }
 },
 "nbformat": 4,
 "nbformat_minor": 5
}
