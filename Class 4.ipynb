{
 "cells": [
  {
   "cell_type": "code",
   "execution_count": 29,
   "id": "17269ae2",
   "metadata": {},
   "outputs": [],
   "source": [
    "class DoublyLinkedList:\n",
    "    class __Node:\n",
    "        def __init__(self, data):\n",
    "            self.data = data\n",
    "            self.next = None\n",
    "            self.previous = None\n",
    "        \n",
    "    def __init__(self):\n",
    "        self.head = None\n",
    "    \n",
    "    def __str__(self):\n",
    "        # if self.head = None, return \"[]\"\n",
    "        \n",
    "        # assign \"out\" variable with value of open bracket\n",
    "        # create \"current\" variable and initialize to self.head\n",
    "        \n",
    "        # if self.head, concatenate self.data to \"out\" variable (use while loop to run while current)\n",
    "        # if stmnt inside while loop: if self.next => concatenate \", \" \n",
    "        # update current to be self.next and go through while loop again unless self.next = None\n",
    "        # concatenate close bracket to \"out\" and return\n",
    "        \n",
    "        if not self.head:\n",
    "            return \"[]\"\n",
    "        \n",
    "        out = \"[\"\n",
    "        current = self.head\n",
    "        while current:\n",
    "            out += \"%s\" % current.data\n",
    "            \n",
    "            if current.next:\n",
    "                out += \", \"\n",
    "            current = current.next\n",
    "        out += \"]\"\n",
    "            \n",
    "        return out\n",
    "        \n",
    "    def append(self, element):\n",
    "        new_node = self.__Node(element)\n",
    "        if not self.head:\n",
    "            self.head = new_node\n",
    "        else:\n",
    "            current = self.head\n",
    "            while current.next:\n",
    "                current = current.next\n",
    "            current.next = new_node\n",
    "            new_node.previous = current\n",
    "                \n",
    "    \n",
    "    def insert(self, index, element):\n",
    "        new_node = self.__Node(element)\n",
    "        \n",
    "        if index == 0:\n",
    "            new_node.next = self.head\n",
    "            self.head = new_node\n",
    "            \n",
    "        else:\n",
    "            current = self.head\n",
    "            counter = 0\n",
    "            previous = None\n",
    "            while current and counter != index:\n",
    "                previous = current\n",
    "                current = current.next\n",
    "                counter += 1\n",
    "            if current:\n",
    "                new_node.next = current\n",
    "                previous.next = new_node\n",
    "                new_node.previous = previous\n",
    "                current.previous = new_node\n",
    "                \n",
    "\n",
    "    \n",
    "    def remove(self, element):\n",
    "        if not self.head:  #if no elements \n",
    "            return\n",
    "        \n",
    "        if self.head.data == element: #if element is at the head\n",
    "            if self.head.next:\n",
    "                self.head.next.previous = None\n",
    "                self.head = self.head.next\n",
    "            else:\n",
    "                current = self.head\n",
    "                \n",
    "        "
   ]
  },
  {
   "cell_type": "code",
   "execution_count": 33,
   "id": "4d91e836",
   "metadata": {},
   "outputs": [
    {
     "name": "stdout",
     "output_type": "stream",
     "text": [
      "[2]\n",
      "[2, 2, 3, 4]\n",
      "[2, 2, 3, 8, 4]\n",
      "[2, 3, 8, 4]\n"
     ]
    }
   ],
   "source": [
    "#Append method pseudocode\n",
    "# define method \"append\" with parameter \"element\":\n",
    "# new_node = self.__Node()\n",
    "# if self.head is set to None:\n",
    "#    then set self.head to be new_node\n",
    "# else:\n",
    "#     current = self.head\n",
    "#     loop until there is no next node\n",
    "#     do:\n",
    "#          current = current.next\n",
    "#     while current.next is not None\n",
    "#          current.next = new_node\n",
    "#          new_node.prev = current\n",
    "\n",
    "dll = DoublyLinkedList()\n",
    "\n",
    "dll.append(2)\n",
    "print(dll)\n",
    "\n",
    "for number in range(2, 5):\n",
    "    dll.append(number)\n",
    "print(dll)\n",
    "\n",
    "dll.insert(3, 8)\n",
    "print(dll)\n",
    "\n",
    "dll.remove(2)\n",
    "print(dll)\n",
    "\n"
   ]
  },
  {
   "cell_type": "markdown",
   "id": "347f21b7",
   "metadata": {},
   "source": [
    "# Recursion"
   ]
  },
  {
   "cell_type": "code",
   "execution_count": 34,
   "id": "fc1fb81d",
   "metadata": {},
   "outputs": [],
   "source": [
    "# simple example\n",
    "\n",
    "def fact(num):\n",
    "    if num == 0:\n",
    "        return 1\n",
    "    return num*fact(num-1)"
   ]
  },
  {
   "cell_type": "code",
   "execution_count": 37,
   "id": "39a01b17",
   "metadata": {},
   "outputs": [
    {
     "data": {
      "text/plain": [
       "24"
      ]
     },
     "execution_count": 37,
     "metadata": {},
     "output_type": "execute_result"
    }
   ],
   "source": [
    "fact(4)"
   ]
  },
  {
   "cell_type": "code",
   "execution_count": 46,
   "id": "4300c172",
   "metadata": {},
   "outputs": [
    {
     "data": {
      "text/plain": [
       "21"
      ]
     },
     "execution_count": 46,
     "metadata": {},
     "output_type": "execute_result"
    }
   ],
   "source": [
    "from functools import lru_cache\n",
    "\n",
    "@lru_cache\n",
    "def fib(num):\n",
    "    if num < 2:                   #base case (which is our exxit condition but also an absolute truth)\n",
    "        return num\n",
    "    return fib(num-1) + fib(num-2) # recursive case\n",
    "\n",
    "fib(8)"
   ]
  },
  {
   "cell_type": "code",
   "execution_count": 47,
   "id": "e73a0735",
   "metadata": {},
   "outputs": [
    {
     "data": {
      "text/plain": [
       "54438373113565281338734260993750380135389184554695967026247715841208582865622349017083051547938960541173822675978026317384359584751116241439174702642959169925586334117906063048089793531476108466259072759367899150677960088306597966641965824937721800381441158841042480997984696487375337180028163763317781927941101369262750979509800713596718023814710669912644214775254478587674568963808002962265133111359929762726679441400101575800043510777465935805362502461707918059226414679005690752321895868142367849593880756423483754386342639635970733756260098962462668746112041739819404875062443709868654315626847186195620146126642232711815040367018825205314845875817193533529827837800351902529239517836689467661917953884712441028463935449484614450778762529520961887597272889220768537396475869543159172434537193611263743926337313005896167248051737986306368115003088396749587102619524631352447499505204198305187168321623283859794627245919771454628218399695789223798912199431775469705216131081096559950638297261253848242007897109054754028438149611930465061866170122983288964352733750792786069444761853525144421077928045979904561298129423809156055033032338919609162236698759922782923191896688017718575555520994653320128446502371153715141749290913104897203455577507196645425232862022019506091483585223882711016708433051169942115775151255510251655931888164048344129557038825477521111577395780115868397072602565614824956460538700280331311861485399805397031555727529693399586079850381581446276433858828529535803424850845426446471681531001533180479567436396815653326152509571127480411928196022148849148284389124178520174507305538928717857923509417743383331506898239354421988805429332440371194867215543576548565499134519271098919802665184564927827827212957649240235507595558205647569365394873317659000206373126570643509709482649710038733517477713403319028105575667931789470024118803094604034362953471997461392274791549730356412633074230824051999996101549784667340458326852960388301120765629245998136251652347093963049734046445106365304163630823669242257761468288461791843224793434406079917883360676846711185597501"
      ]
     },
     "execution_count": 47,
     "metadata": {},
     "output_type": "execute_result"
    }
   ],
   "source": [
    "cache = {}\n",
    "\n",
    "for number in range(1000, 10000, 1000):\n",
    "    result = fib(number)\n",
    "    cache[number] = result\n",
    "\n",
    "fib(10001)"
   ]
  },
  {
   "cell_type": "code",
   "execution_count": 48,
   "id": "b0d8ab4f",
   "metadata": {},
   "outputs": [],
   "source": [
    "class HashTable:\n",
    "    def __init__(self, size):\n",
    "        self.size = size\n",
    "        self.slots = [None] * self.size\n",
    "        self.data = [None] * self.size\n",
    "    \n",
    "    def put(self, key, data):\n",
    "        hashvalue = self.hashfunction(key, len(self.slots))\n",
    "        if self.slots[hashvalue] == None:\n",
    "            self.slots[hashvalue] = key\n",
    "            self.data[hashvalue] = data\n",
    "        else:\n",
    "            if self.slots[hashvalue] == key:\n",
    "                self.data[hashvalue] = data\n",
    "            else:\n",
    "                nextslot = self.rehash(hashvalue, len(self.slots))\n",
    "                while self.slots[nextslot] != None and self.slots[nextslot] != key:\n",
    "                    nextslot = self.rehash(nextslot, len(self.slots))\n",
    "                if self.slots[nextslot] == None:\n",
    "                    self.slots[nextslot] = key\n",
    "                    self.data[nextslot] = data\n",
    "                else:\n",
    "                    self.data[nextslot] = data\n",
    "    def hashfunction(self, key, size):\n",
    "        return key%size\n",
    "    \n",
    "    def rehash(self, oldhash, size):\n",
    "        return (oldhash+1)%size\n",
    "    \n",
    "    def get(self, key):\n",
    "        startslot = self.hashfunction(key, len(self.slots))\n",
    "        data = None\n",
    "        stop = False\n",
    "        found = False\n",
    "        position = startslot\n",
    "        \n",
    "        while self.slots[position] != None and not found and not stop:\n",
    "            if self.slots[position] == key:\n",
    "                found = True\n",
    "                data = self.data[position]\n",
    "            else: \n",
    "                position = self.rehash(position, len(self.slots))\n",
    "                if position == startslot:\n",
    "                    stop = True\n",
    "        return data\n",
    "    \n",
    "    # nice to have dunde methods:\n",
    "    def __getitem__(self, key):\n",
    "        return self.get(key)\n",
    "    \n",
    "    def __setitem__(self, key, data):\n",
    "        self.put(key, data)\n",
    "                \n",
    "            \n",
    "        "
   ]
  },
  {
   "cell_type": "code",
   "execution_count": null,
   "id": "5e5ea52e",
   "metadata": {},
   "outputs": [],
   "source": []
  }
 ],
 "metadata": {
  "kernelspec": {
   "display_name": "Python 3 (ipykernel)",
   "language": "python",
   "name": "python3"
  },
  "language_info": {
   "codemirror_mode": {
    "name": "ipython",
    "version": 3
   },
   "file_extension": ".py",
   "mimetype": "text/x-python",
   "name": "python",
   "nbconvert_exporter": "python",
   "pygments_lexer": "ipython3",
   "version": "3.10.6"
  }
 },
 "nbformat": 4,
 "nbformat_minor": 5
}
