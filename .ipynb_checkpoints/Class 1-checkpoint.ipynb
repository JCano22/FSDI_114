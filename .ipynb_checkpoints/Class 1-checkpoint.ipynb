{
 "cells": [
  {
   "cell_type": "code",
   "execution_count": 1,
   "id": "adf05424",
   "metadata": {
    "scrolled": true
   },
   "outputs": [
    {
     "name": "stdout",
     "output_type": "stream",
     "text": [
      "h\n",
      "e\n",
      "l\n",
      "l\n",
      "o\n",
      ",\n",
      " \n",
      "w\n",
      "o\n",
      "r\n",
      "l\n",
      "d\n"
     ]
    }
   ],
   "source": [
    "for letter in \"hello, world\":\n",
    "    print(letter)"
   ]
  },
  {
   "cell_type": "markdown",
   "id": "7a8d1b6e",
   "metadata": {},
   "source": [
    "# Anagram checker\n",
    "\n",
    "Given two strings, create a function that determines if these are anagrams of each other.\n",
    "Your function should return `True` if these are anagrams of each other, `False` otherwise.\n",
    "\n",
    "*Criteria*\n",
    "1.  Two strings are anagrams of each other if, and only if:\n",
    "1.1. They use all the same letters the sam amount of times.\n",
    "1.2. They are exactly the same length.\n",
    "2.  Your function should be called `anagram_check` and must receive two parameters(strings).\n",
    "\n",
    "```\n",
    "Examples:\n",
    "heart and earth\n",
    "cars and scar\n",
    "star and rats\n",
    "```"
   ]
  },
  {
   "cell_type": "code",
   "execution_count": 2,
   "id": "de2c15ab",
   "metadata": {},
   "outputs": [],
   "source": [
    "# create function\n",
    "# convert both strings to lowercase or both to uppercase\n",
    "# remove whitespaces from strings\n",
    "# check length of both strings and return false if not equal\n",
    "#"
   ]
  },
  {
   "cell_type": "code",
   "execution_count": null,
   "id": "146d0fff",
   "metadata": {},
   "outputs": [],
   "source": []
  }
 ],
 "metadata": {
  "kernelspec": {
   "display_name": "Python 3 (ipykernel)",
   "language": "python",
   "name": "python3"
  },
  "language_info": {
   "codemirror_mode": {
    "name": "ipython",
    "version": 3
   },
   "file_extension": ".py",
   "mimetype": "text/x-python",
   "name": "python",
   "nbconvert_exporter": "python",
   "pygments_lexer": "ipython3",
   "version": "3.10.6"
  }
 },
 "nbformat": 4,
 "nbformat_minor": 5
}
